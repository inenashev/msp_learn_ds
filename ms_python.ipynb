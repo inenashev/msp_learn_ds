{
 "cells": [
  {
   "cell_type": "code",
   "execution_count": 2,
   "id": "6aadb023-00c0-464d-8d05-2e61f0b3b66f",
   "metadata": {},
   "outputs": [],
   "source": [
    "import pandas as pd\n",
    "import numpy as np\n",
    "import seaborn as sns\n",
    "import matplotlib.pyplot as plt\n",
    "from random import sample\n",
    "from matplotlib.cm import get_cmap"
   ]
  },
  {
   "cell_type": "markdown",
   "id": "e9797ac1-6cc5-4390-987a-cf66ef074781",
   "metadata": {},
   "source": [
    "# Просто немного того что было в слайдах по ds"
   ]
  },
  {
   "cell_type": "markdown",
   "id": "3bf597ba-fc64-4bef-b6f4-35b6e7028de4",
   "metadata": {},
   "source": [
    "## Загрузка данных"
   ]
  },
  {
   "cell_type": "code",
   "execution_count": 7,
   "id": "a01fe960-76c1-46bc-b503-e5251eab1d45",
   "metadata": {},
   "outputs": [],
   "source": [
    "json_loc = \"data-398-2022-09-09.json\""
   ]
  },
  {
   "cell_type": "markdown",
   "id": "0de4085c-c737-4cbf-b02e-f8b6ec282f4c",
   "metadata": {},
   "source": [
    "Читаем прям в жсон и ставим кодировку нужную"
   ]
  },
  {
   "cell_type": "code",
   "execution_count": 8,
   "id": "9133ce6a-d17b-4b94-87c4-d35c7d387015",
   "metadata": {},
   "outputs": [],
   "source": [
    "df = pd.read_json(json_loc,encoding='cp1251')"
   ]
  },
  {
   "cell_type": "markdown",
   "id": "2f5edfa3-7d74-4048-941c-1fc271161a17",
   "metadata": {},
   "source": [
    "ок данные на месте."
   ]
  },
  {
   "cell_type": "markdown",
   "id": "0a7a4b23-1f62-4797-a62a-e259de4ae52c",
   "metadata": {},
   "source": [
    "##  Sort of EDA"
   ]
  },
  {
   "cell_type": "code",
   "execution_count": 10,
   "id": "6d207a18-658e-44d8-bd7a-c781fba2e3fc",
   "metadata": {},
   "outputs": [
    {
     "name": "stdout",
     "output_type": "stream",
     "text": [
      "<class 'pandas.core.frame.DataFrame'>\n",
      "RangeIndex: 11977 entries, 0 to 11976\n",
      "Data columns (total 17 columns):\n",
      " #   Column            Non-Null Count  Dtype  \n",
      "---  ------            --------------  -----  \n",
      " 0   ID                11977 non-null  int64  \n",
      " 1   Name              11977 non-null  object \n",
      " 2   Longitude_WGS84   11977 non-null  float64\n",
      " 3   Latitude_WGS84    11977 non-null  float64\n",
      " 4   AdmArea           11977 non-null  object \n",
      " 5   District          11977 non-null  object \n",
      " 6   RouteNumbers      11977 non-null  object \n",
      " 7   StationName       11977 non-null  object \n",
      " 8   Direction         11977 non-null  object \n",
      " 9   Pavilion          11977 non-null  object \n",
      " 10  OperatingOrgName  11977 non-null  object \n",
      " 11  EntryState        11977 non-null  object \n",
      " 12  global_id         11977 non-null  int64  \n",
      " 13  PlaceDescription  11977 non-null  object \n",
      " 14  Works             11977 non-null  object \n",
      " 15  geoData           11977 non-null  object \n",
      " 16  geodata_center    901 non-null    object \n",
      "dtypes: float64(2), int64(2), object(13)\n",
      "memory usage: 1.6+ MB\n"
     ]
    }
   ],
   "source": [
    "df.info()"
   ]
  },
  {
   "cell_type": "code",
   "execution_count": 6,
   "id": "55aac90e-8e02-4b09-b96d-807664c155c4",
   "metadata": {},
   "outputs": [
    {
     "data": {
      "text/html": [
       "<div>\n",
       "<style scoped>\n",
       "    .dataframe tbody tr th:only-of-type {\n",
       "        vertical-align: middle;\n",
       "    }\n",
       "\n",
       "    .dataframe tbody tr th {\n",
       "        vertical-align: top;\n",
       "    }\n",
       "\n",
       "    .dataframe thead th {\n",
       "        text-align: right;\n",
       "    }\n",
       "</style>\n",
       "<table border=\"1\" class=\"dataframe\">\n",
       "  <thead>\n",
       "    <tr style=\"text-align: right;\">\n",
       "      <th></th>\n",
       "      <th>ID</th>\n",
       "      <th>Name</th>\n",
       "      <th>Longitude_WGS84</th>\n",
       "      <th>Latitude_WGS84</th>\n",
       "      <th>AdmArea</th>\n",
       "      <th>District</th>\n",
       "      <th>RouteNumbers</th>\n",
       "      <th>StationName</th>\n",
       "      <th>Direction</th>\n",
       "      <th>Pavilion</th>\n",
       "      <th>OperatingOrgName</th>\n",
       "      <th>EntryState</th>\n",
       "      <th>global_id</th>\n",
       "      <th>PlaceDescription</th>\n",
       "      <th>Works</th>\n",
       "      <th>geoData</th>\n",
       "      <th>geodata_center</th>\n",
       "    </tr>\n",
       "  </thead>\n",
       "  <tbody>\n",
       "    <tr>\n",
       "      <th>0</th>\n",
       "      <td>7</td>\n",
       "      <td>«Дербеневская наб.», 3-й Дербеневский переулок...</td>\n",
       "      <td>37.655164</td>\n",
       "      <td>55.725668</td>\n",
       "      <td>Южный административный округ</td>\n",
       "      <td>Даниловский район</td>\n",
       "      <td>А913; АС932</td>\n",
       "      <td>Дербеневская наб.</td>\n",
       "      <td>от центра</td>\n",
       "      <td>да</td>\n",
       "      <td>ГУП «Мосгортранс»</td>\n",
       "      <td>активна</td>\n",
       "      <td>889076457</td>\n",
       "      <td>Дербеневская ул., д.1</td>\n",
       "      <td>[]</td>\n",
       "      <td>{'coordinates': [37.6551636, 55.72566817], 'ty...</td>\n",
       "      <td>NaN</td>\n",
       "    </tr>\n",
       "    <tr>\n",
       "      <th>1</th>\n",
       "      <td>11</td>\n",
       "      <td>«Наб. Тараса Шевченко», набережная Тараса Шевч...</td>\n",
       "      <td>37.572274</td>\n",
       "      <td>55.749678</td>\n",
       "      <td>Западный административный округ</td>\n",
       "      <td>район Дорогомилово</td>\n",
       "      <td>А205; А622</td>\n",
       "      <td>Наб. Тараса Шевченко</td>\n",
       "      <td>в центр</td>\n",
       "      <td>нет</td>\n",
       "      <td></td>\n",
       "      <td>активна</td>\n",
       "      <td>889076459</td>\n",
       "      <td>Кутузовский просп., д.1</td>\n",
       "      <td>[]</td>\n",
       "      <td>{'coordinates': [37.57227413, 55.74967848], 't...</td>\n",
       "      <td>NaN</td>\n",
       "    </tr>\n",
       "    <tr>\n",
       "      <th>2</th>\n",
       "      <td>27</td>\n",
       "      <td>«Кардиоцентр», 3-я Черепковская улица (в центр...</td>\n",
       "      <td>37.375509</td>\n",
       "      <td>55.757264</td>\n",
       "      <td>Западный административный округ</td>\n",
       "      <td>район Кунцево</td>\n",
       "      <td>А660; А798; А816</td>\n",
       "      <td>Кардиоцентр</td>\n",
       "      <td>в центр</td>\n",
       "      <td>да</td>\n",
       "      <td>ГУП «Мосгортранс»</td>\n",
       "      <td>активна</td>\n",
       "      <td>889076461</td>\n",
       "      <td>3-я Черепковская ул., д.15А</td>\n",
       "      <td>[]</td>\n",
       "      <td>{'coordinates': [37.37550932, 55.7572642], 'ty...</td>\n",
       "      <td>NaN</td>\n",
       "    </tr>\n",
       "    <tr>\n",
       "      <th>3</th>\n",
       "      <td>33</td>\n",
       "      <td>«Новосущёвская ул.», улица Сущёвский Вал (в це...</td>\n",
       "      <td>37.603376</td>\n",
       "      <td>55.792891</td>\n",
       "      <td>Северо-Восточный административный округ</td>\n",
       "      <td>район Марьина Роща</td>\n",
       "      <td>А126; Ас484; Ат18; Ат42</td>\n",
       "      <td>Новосущёвская ул.</td>\n",
       "      <td>в центр</td>\n",
       "      <td>да</td>\n",
       "      <td>ЗАО «Валль-СНГ»</td>\n",
       "      <td>активна</td>\n",
       "      <td>889076463</td>\n",
       "      <td>ул. Сущёвский Вал, д.25</td>\n",
       "      <td>[]</td>\n",
       "      <td>{'coordinates': [37.60337594, 55.79289095], 't...</td>\n",
       "      <td>NaN</td>\n",
       "    </tr>\n",
       "    <tr>\n",
       "      <th>4</th>\n",
       "      <td>35</td>\n",
       "      <td>«Керамический пр.», Дубнинская улица (в центр)...</td>\n",
       "      <td>37.557246</td>\n",
       "      <td>55.894608</td>\n",
       "      <td>Северный административный округ</td>\n",
       "      <td>район Восточное Дегунино</td>\n",
       "      <td>А167; А179; А499; А677; А677к</td>\n",
       "      <td>Керамический пр.</td>\n",
       "      <td>в центр</td>\n",
       "      <td>да</td>\n",
       "      <td>ГУП «Мосгортранс»</td>\n",
       "      <td>активна</td>\n",
       "      <td>889076464</td>\n",
       "      <td>Дубнинская ул., д.85</td>\n",
       "      <td>[]</td>\n",
       "      <td>{'coordinates': [37.55724554, 55.89460802], 't...</td>\n",
       "      <td>{'coordinates': [37.55724554, 55.89460802], 't...</td>\n",
       "    </tr>\n",
       "  </tbody>\n",
       "</table>\n",
       "</div>"
      ],
      "text/plain": [
       "   ID                                               Name  Longitude_WGS84  \\\n",
       "0   7  «Дербеневская наб.», 3-й Дербеневский переулок...        37.655164   \n",
       "1  11  «Наб. Тараса Шевченко», набережная Тараса Шевч...        37.572274   \n",
       "2  27  «Кардиоцентр», 3-я Черепковская улица (в центр...        37.375509   \n",
       "3  33  «Новосущёвская ул.», улица Сущёвский Вал (в це...        37.603376   \n",
       "4  35  «Керамический пр.», Дубнинская улица (в центр)...        37.557246   \n",
       "\n",
       "   Latitude_WGS84                                  AdmArea  \\\n",
       "0       55.725668             Южный административный округ   \n",
       "1       55.749678          Западный административный округ   \n",
       "2       55.757264          Западный административный округ   \n",
       "3       55.792891  Северо-Восточный административный округ   \n",
       "4       55.894608          Северный административный округ   \n",
       "\n",
       "                   District                   RouteNumbers  \\\n",
       "0         Даниловский район                    А913; АС932   \n",
       "1        район Дорогомилово                     А205; А622   \n",
       "2             район Кунцево               А660; А798; А816   \n",
       "3        район Марьина Роща        А126; Ас484; Ат18; Ат42   \n",
       "4  район Восточное Дегунино  А167; А179; А499; А677; А677к   \n",
       "\n",
       "            StationName  Direction Pavilion   OperatingOrgName EntryState  \\\n",
       "0     Дербеневская наб.  от центра       да  ГУП «Мосгортранс»    активна   \n",
       "1  Наб. Тараса Шевченко    в центр      нет                       активна   \n",
       "2           Кардиоцентр    в центр       да  ГУП «Мосгортранс»    активна   \n",
       "3     Новосущёвская ул.    в центр       да    ЗАО «Валль-СНГ»    активна   \n",
       "4      Керамический пр.    в центр       да  ГУП «Мосгортранс»    активна   \n",
       "\n",
       "   global_id             PlaceDescription Works  \\\n",
       "0  889076457        Дербеневская ул., д.1    []   \n",
       "1  889076459      Кутузовский просп., д.1    []   \n",
       "2  889076461  3-я Черепковская ул., д.15А    []   \n",
       "3  889076463      ул. Сущёвский Вал, д.25    []   \n",
       "4  889076464         Дубнинская ул., д.85    []   \n",
       "\n",
       "                                             geoData  \\\n",
       "0  {'coordinates': [37.6551636, 55.72566817], 'ty...   \n",
       "1  {'coordinates': [37.57227413, 55.74967848], 't...   \n",
       "2  {'coordinates': [37.37550932, 55.7572642], 'ty...   \n",
       "3  {'coordinates': [37.60337594, 55.79289095], 't...   \n",
       "4  {'coordinates': [37.55724554, 55.89460802], 't...   \n",
       "\n",
       "                                      geodata_center  \n",
       "0                                                NaN  \n",
       "1                                                NaN  \n",
       "2                                                NaN  \n",
       "3                                                NaN  \n",
       "4  {'coordinates': [37.55724554, 55.89460802], 't...  "
      ]
     },
     "execution_count": 6,
     "metadata": {},
     "output_type": "execute_result"
    }
   ],
   "source": [
    "df.head()"
   ]
  },
  {
   "cell_type": "markdown",
   "id": "78371140-7fce-45d5-a185-fac3bc3e2c95",
   "metadata": {},
   "source": [
    "Что хочется сказать, данные выглядят интересно но отдельно без геосервиса они почти бесполезны. Попробуем сделать то что в слайдах, а именно найти улицу с самым большим числом остановок"
   ]
  },
  {
   "cell_type": "markdown",
   "id": "b538e4bc-f49a-4209-9134-465a1deff023",
   "metadata": {},
   "source": [
    "### Выделение данных по улицам"
   ]
  },
  {
   "cell_type": "markdown",
   "id": "46c5f028-2b00-4ab4-ab0c-1ef24f3270b2",
   "metadata": {},
   "source": [
    "Попробуем взять столбец PlaceDescription"
   ]
  },
  {
   "cell_type": "code",
   "execution_count": 11,
   "id": "9a34b79c-35df-47bb-905b-8dc48389eb06",
   "metadata": {},
   "outputs": [
    {
     "data": {
      "text/plain": [
       "0              Дербеневская ул., д.1\n",
       "1            Кутузовский просп., д.1\n",
       "2        3-я Черепковская ул., д.15А\n",
       "3            ул. Сущёвский Вал, д.25\n",
       "4               Дубнинская ул., д.85\n",
       "                    ...             \n",
       "11972            просп. Мира, д.121А\n",
       "11973            просп. Мира, д.123Б\n",
       "11974            просп. Мира, д.123Б\n",
       "11975            просп. Мира, д.121А\n",
       "11976            просп. Мира, д.121А\n",
       "Name: PlaceDescription, Length: 11977, dtype: object"
      ]
     },
     "execution_count": 11,
     "metadata": {},
     "output_type": "execute_result"
    }
   ],
   "source": [
    "df['PlaceDescription']"
   ]
  },
  {
   "cell_type": "markdown",
   "id": "ff9d6466-bc7b-4d2f-baa2-57dff6c21142",
   "metadata": {},
   "source": [
    "Довольно не кошерно, но чтож, будем чистить\n",
    "попробуем отпилить дома и что там еще есть, проще говоря сделаем сплит по ','"
   ]
  },
  {
   "cell_type": "code",
   "execution_count": 12,
   "id": "82b57948-9537-4b79-b8d3-ca9631afd60f",
   "metadata": {},
   "outputs": [],
   "source": [
    "test_data = df['PlaceDescription']"
   ]
  },
  {
   "cell_type": "code",
   "execution_count": 13,
   "id": "97ed9005-d891-411f-a3ba-52ea57acf65a",
   "metadata": {},
   "outputs": [],
   "source": [
    "streets = test_data.apply(lambda row: row.split(',')[0])"
   ]
  },
  {
   "cell_type": "code",
   "execution_count": 14,
   "id": "a8c0dca2-44bd-4cde-8168-cc85815fe867",
   "metadata": {},
   "outputs": [
    {
     "data": {
      "text/plain": [
       "                          844\n",
       "Варшавское ш.             114\n",
       "просп. Мира               105\n",
       "Ленинский просп.           93\n",
       "Дмитровское ш.             89\n",
       "                         ... \n",
       "ул. Садовый Квартал         1\n",
       "ул. Шаганинские поляны      1\n",
       "Дублинская ул.              1\n",
       "Платановая ул.              1\n",
       "Норильская ул.              1\n",
       "Name: PlaceDescription, Length: 1694, dtype: int64"
      ]
     },
     "execution_count": 14,
     "metadata": {},
     "output_type": "execute_result"
    }
   ],
   "source": [
    "streets.value_counts()"
   ]
  },
  {
   "cell_type": "markdown",
   "id": "dcd873af-d536-4c38-8a6a-ae4da6f77041",
   "metadata": {},
   "source": [
    "Чемпион \"\" - ай ай статистика мск, вместо NA поставили '' поэтому это не видно на info()"
   ]
  },
  {
   "cell_type": "code",
   "execution_count": null,
   "id": "f947fac2-79c0-45bd-821a-d6fa7425d0e4",
   "metadata": {},
   "outputs": [],
   "source": [
    "Ну чтож, попробуем немного иначе, возьмем столбец Name для одной из пустых улиц"
   ]
  },
  {
   "cell_type": "code",
   "execution_count": 15,
   "id": "6d761b81-9ef8-44f2-bb68-a0c7ff2bbf3e",
   "metadata": {},
   "outputs": [
    {
     "data": {
      "text/plain": [
       "'«Ул. Акад. Комарова», Ботаническая улица (от центра) (437)'"
      ]
     },
     "execution_count": 15,
     "metadata": {},
     "output_type": "execute_result"
    }
   ],
   "source": [
    "df[df['Street'] == \"\"]['Name'].loc[331]"
   ]
  },
  {
   "cell_type": "markdown",
   "id": "9eb9b0e4-edbc-42b9-be27-54b0d5bb55f9",
   "metadata": {},
   "source": [
    "Ага, тут уже все неплохо"
   ]
  },
  {
   "cell_type": "code",
   "execution_count": 15,
   "id": "ba9e9524-a942-499e-8096-717d2ae46570",
   "metadata": {},
   "outputs": [],
   "source": [
    "df[\"StreetsFromName\"] = df['Name'].str.extract(r'»,(.*) \\(\\D')"
   ]
  },
  {
   "cell_type": "code",
   "execution_count": 17,
   "id": "8e10976a-45ad-4f8b-aac3-d7fdca33f8da",
   "metadata": {},
   "outputs": [
    {
     "data": {
      "text/plain": [
       "StreetsFromName\n",
       " проезд без названия           281\n",
       " Варшавское шоссе              181\n",
       " Калужское шоссе               116\n",
       " проспект Мира                  72\n",
       " шоссе Энтузиастов              72\n",
       "                              ... \n",
       " Проектируемый проезд № 680      1\n",
       " Васильевская улица              1\n",
       " Вагоноремонтная улица           1\n",
       " Боровицкая площадь              1\n",
       " 1-й Ботанический проезд         1\n",
       "Name: Name, Length: 1680, dtype: int64"
      ]
     },
     "execution_count": 17,
     "metadata": {},
     "output_type": "execute_result"
    }
   ],
   "source": [
    "data_to_plot = df.groupby(\"StreetsFromName\")['Name'].nunique().sort_values(ascending=False)\n",
    "data_to_plot"
   ]
  },
  {
   "cell_type": "markdown",
   "id": "a6bf7cdd-d135-4e0c-adbc-c751922e9cdc",
   "metadata": {},
   "source": [
    "Совсем другое дело, построим картиночки"
   ]
  },
  {
   "cell_type": "code",
   "execution_count": 24,
   "id": "b2f2bd19-c9d9-48fa-8617-a8165d43ee62",
   "metadata": {},
   "outputs": [
    {
     "data": {
      "image/png": "[encoded data removed]",
      "text/plain": [
       "<Figure size 640x480 with 1 Axes>"
      ]
     },
     "metadata": {},
     "output_type": "display_data"
    }
   ],
   "source": [
    "sns.barplot(x=data_to_plot[:5].index,y=data_to_plot[:5].values)\n",
    "_=plt.xticks(rotation=45)"
   ]
  },
  {
   "cell_type": "markdown",
   "id": "449c38fb-f267-4ba7-a54d-ef05ffcda4ec",
   "metadata": {},
   "source": [
    "Ок а что по районам?"
   ]
  },
  {
   "cell_type": "code",
   "execution_count": 32,
   "id": "16939103-8080-4f9e-8761-630d7af3a9b9",
   "metadata": {},
   "outputs": [
    {
     "data": {
      "text/plain": [
       "District\n",
       "район Южное Бутово     205\n",
       "поселение Сосенское    181\n",
       "район Марьино          180\n",
       "Таганский район        180\n",
       "район Люблино          162\n",
       "Name: Name, dtype: int64"
      ]
     },
     "execution_count": 32,
     "metadata": {},
     "output_type": "execute_result"
    }
   ],
   "source": [
    "data_district = df.groupby('District')['Name'].nunique().sort_values(ascending=False)\n",
    "data_district[:5]"
   ]
  },
  {
   "cell_type": "code",
   "execution_count": 33,
   "id": "9a7a4a0d-7d8f-418f-985e-ca71b31437bc",
   "metadata": {},
   "outputs": [
    {
     "data": {
      "image/png": "[encoded data removed]",
      "text/plain": [
       "<Figure size 640x480 with 1 Axes>"
      ]
     },
     "metadata": {},
     "output_type": "display_data"
    }
   ],
   "source": [
    "sns.barplot(x=data_district[:5].index,y=data_district[:5].values)\n",
    "_=plt.xticks(rotation=45)"
   ]
  },
  {
   "cell_type": "markdown",
   "id": "ee852c63-e61a-49b8-b0ee-35e92035556b",
   "metadata": {},
   "source": [
    "Интересно да, бутово и Коммунарка, а так же внезапно Марьино и Люблино, видио это районы где метро было построено не так давно, ну а таганский - это практически центр"
   ]
  },
  {
   "cell_type": "code",
   "execution_count": 43,
   "id": "365d058e-b5fb-4e70-9b05-5f93c675599c",
   "metadata": {},
   "outputs": [
    {
     "data": {
      "image/png": "[encoded data removed]",
      "text/plain": [
       "<Figure size 500x500 with 1 Axes>"
      ]
     },
     "metadata": {},
     "output_type": "display_data"
    }
   ],
   "source": [
    "_=sns.displot(data_district,legend=True).set(title='распредиление числа остановок по районам')"
   ]
  },
  {
   "cell_type": "markdown",
   "id": "a067e599-1f6d-458b-9aeb-d014e650701e",
   "metadata": {},
   "source": [
    "Хм, получается у числа остановок на район вполне хорошее такое распределение"
   ]
  },
  {
   "cell_type": "code",
   "execution_count": 44,
   "id": "4922f097-664a-475e-9c35-b2813a224080",
   "metadata": {},
   "outputs": [
    {
     "data": {
      "image/png": "[encoded data removed]",
      "text/plain": [
       "<Figure size 500x500 with 1 Axes>"
      ]
     },
     "metadata": {},
     "output_type": "display_data"
    }
   ],
   "source": [
    "_=sns.displot(data_to_plot).set(title='распредиление числа остановок по улицам')"
   ]
  },
  {
   "cell_type": "markdown",
   "id": "0ee142dc-cde4-4e99-b6fe-f69be1bae3ac",
   "metadata": {},
   "source": [
    "ой невидно ничего, сейчас поправим"
   ]
  },
  {
   "cell_type": "code",
   "execution_count": 48,
   "id": "acb4825c-02a4-4b41-82e1-56db2f15b4ec",
   "metadata": {},
   "outputs": [
    {
     "data": {
      "image/png": "[encoded data removed]",
      "text/plain": [
       "<Figure size 500x500 with 1 Axes>"
      ]
     },
     "metadata": {},
     "output_type": "display_data"
    }
   ],
   "source": [
    "_=sns.displot(data_to_plot).set(title='распредиление числа остановок по улицам, фильтрованное').set(ylim=(0,200))\n"
   ]
  },
  {
   "cell_type": "code",
   "execution_count": 53,
   "id": "54786ca6-6c93-4b38-8851-eb87a71ba267",
   "metadata": {},
   "outputs": [
    {
     "data": {
      "text/plain": [
       "count    1680.000000\n",
       "mean        7.108333\n",
       "std        11.447846\n",
       "min         1.000000\n",
       "50%         4.000000\n",
       "95%        20.000000\n",
       "99%        45.210000\n",
       "max       281.000000\n",
       "Name: Name, dtype: float64"
      ]
     },
     "execution_count": 53,
     "metadata": {},
     "output_type": "execute_result"
    }
   ],
   "source": [
    "data_to_plot.describe([0.95,0.99])"
   ]
  },
  {
   "cell_type": "markdown",
   "id": "b1652509-d31c-4ae8-96a5-a22b728812d4",
   "metadata": {},
   "source": [
    "Интересно, получается на улице в среднем 7 остановок, а линия p99 находится где то на 45 остановках, получается что наши лидеры с 100+ останокок это по сути вылеты,\n",
    "которые ничего не отражают. Интересно что медиана на ровно 4х остановках, т.е. половина из 1680 улиц в мск имеет 4 остановки и меньше.\n",
    "Думаю было бы оч интересно сопоставить именно данные с расстоянием между остановками и станциями метро, а так же перспективами строительства метро чтобы находить более выгодные места для покупки инвестиционных квартир\\коммерческой недвижимости."
   ]
  },
  {
   "cell_type": "code",
   "execution_count": null,
   "id": "9cb4efcb-ccaa-4164-810e-da07631f108a",
   "metadata": {},
   "outputs": [],
   "source": []
  },
  {
   "cell_type": "code",
   "execution_count": null,
   "id": "2da54de4-a67e-49cd-acb3-a932826df7fc",
   "metadata": {},
   "outputs": [],
   "source": []
  },
  {
   "cell_type": "markdown",
   "id": "6e11e44a-77f4-4bf2-9bfd-d99cbeda007c",
   "metadata": {},
   "source": [
    "## Тут скорее про пивоты"
   ]
  },
  {
   "cell_type": "markdown",
   "id": "838628d4-fd88-4afd-97b6-13fa4dc9f1ab",
   "metadata": {},
   "source": [
    "Загрузим данные за 2015 и 2016 годы"
   ]
  },
  {
   "cell_type": "code",
   "execution_count": 56,
   "id": "1f12ccd5-f3a6-475f-9f4a-3417e52c1fc2",
   "metadata": {},
   "outputs": [],
   "source": [
    "df_r2015 = pd.read_excel(\"Russia-2015.xlsx\",sheet_name=\"Partner\")"
   ]
  },
  {
   "cell_type": "code",
   "execution_count": 57,
   "id": "f9518fa7-6cee-4615-b3cc-e36e5168ee2f",
   "metadata": {},
   "outputs": [],
   "source": [
    "df_r2016 = pd.read_excel(\"Russia-2016.xlsx\",sheet_name=\"Partner\")"
   ]
  },
  {
   "cell_type": "markdown",
   "id": "168e69b6-f188-41bf-8569-d1b72ae0c587",
   "metadata": {},
   "source": [
    "Склеим их"
   ]
  },
  {
   "cell_type": "code",
   "execution_count": 58,
   "id": "19920bc0-0267-4d0e-8d42-13567b9f2a46",
   "metadata": {},
   "outputs": [],
   "source": [
    "df_export = pd.concat([df_r2015,df_r2016])"
   ]
  },
  {
   "cell_type": "code",
   "execution_count": 59,
   "id": "1dc6fc2d-105e-4163-b302-c002e3d4fc5b",
   "metadata": {},
   "outputs": [],
   "source": [
    "pd.options.display.float_format = '{:.2f}'.format"
   ]
  },
  {
   "attachments": {
    "2fce025a-0fc3-41f9-bc5d-11814c38d9a2.png": {
     "image/png": "[encoded data removed]"
    }
   },
   "cell_type": "markdown",
   "id": "56ceffe5-e0fe-4a98-abe3-9779596afb99",
   "metadata": {},
   "source": [
    "А вот тут авторам трека по DS хочется сказать что пивоты не такая простая тема чтобы вот так ее подавать, лично мне больше всего помогла вот такая картинка\n",
    "![image.png](attachment:2fce025a-0fc3-41f9-bc5d-11814c38d9a2.png)"
   ]
  },
  {
   "cell_type": "code",
   "execution_count": 60,
   "id": "ba69ff97-6947-49c7-825d-05b213027841",
   "metadata": {},
   "outputs": [
    {
     "data": {
      "text/html": [
       "<div>\n",
       "<style scoped>\n",
       "    .dataframe tbody tr th:only-of-type {\n",
       "        vertical-align: middle;\n",
       "    }\n",
       "\n",
       "    .dataframe tbody tr th {\n",
       "        vertical-align: top;\n",
       "    }\n",
       "\n",
       "    .dataframe thead th {\n",
       "        text-align: right;\n",
       "    }\n",
       "</style>\n",
       "<table border=\"1\" class=\"dataframe\">\n",
       "  <thead>\n",
       "    <tr style=\"text-align: right;\">\n",
       "      <th></th>\n",
       "      <th>Export (US$ Thousand)</th>\n",
       "    </tr>\n",
       "    <tr>\n",
       "      <th>Year</th>\n",
       "      <th></th>\n",
       "    </tr>\n",
       "  </thead>\n",
       "  <tbody>\n",
       "    <tr>\n",
       "      <th>2015</th>\n",
       "      <td>975175066.12</td>\n",
       "    </tr>\n",
       "    <tr>\n",
       "      <th>2016</th>\n",
       "      <td>901642445.31</td>\n",
       "    </tr>\n",
       "  </tbody>\n",
       "</table>\n",
       "</div>"
      ],
      "text/plain": [
       "      Export (US$ Thousand)\n",
       "Year                       \n",
       "2015           975175066.12\n",
       "2016           901642445.31"
      ]
     },
     "execution_count": 60,
     "metadata": {},
     "output_type": "execute_result"
    }
   ],
   "source": [
    "df_export.pivot_table(index=['Year'],\n",
    "    values='Export (US$ Thousand)', aggfunc='sum')"
   ]
  },
  {
   "cell_type": "code",
   "execution_count": 25,
   "id": "8688be86-d070-4c5b-9b13-d98863f5e6a8",
   "metadata": {},
   "outputs": [
    {
     "data": {
      "text/html": [
       "<div>\n",
       "<style scoped>\n",
       "    .dataframe tbody tr th:only-of-type {\n",
       "        vertical-align: middle;\n",
       "    }\n",
       "\n",
       "    .dataframe tbody tr th {\n",
       "        vertical-align: top;\n",
       "    }\n",
       "\n",
       "    .dataframe thead th {\n",
       "        text-align: right;\n",
       "    }\n",
       "</style>\n",
       "<table border=\"1\" class=\"dataframe\">\n",
       "  <thead>\n",
       "    <tr style=\"text-align: right;\">\n",
       "      <th></th>\n",
       "      <th></th>\n",
       "      <th>Export (US$ Thousand)</th>\n",
       "    </tr>\n",
       "    <tr>\n",
       "      <th>Year</th>\n",
       "      <th>Partner Name</th>\n",
       "      <th></th>\n",
       "    </tr>\n",
       "  </thead>\n",
       "  <tbody>\n",
       "    <tr>\n",
       "      <th>2015</th>\n",
       "      <th>World</th>\n",
       "      <td>343907651.83</td>\n",
       "    </tr>\n",
       "    <tr>\n",
       "      <th rowspan=\"2\" valign=\"top\">2016</th>\n",
       "      <th>World</th>\n",
       "      <td>301780443.39</td>\n",
       "    </tr>\n",
       "    <tr>\n",
       "      <th>Europe &amp; Central Asia</th>\n",
       "      <td>193926312.70</td>\n",
       "    </tr>\n",
       "    <tr>\n",
       "      <th rowspan=\"2\" valign=\"top\">2015</th>\n",
       "      <th>Europe &amp; Central Asia</th>\n",
       "      <td>188344810.70</td>\n",
       "    </tr>\n",
       "    <tr>\n",
       "      <th>East Asia &amp; Pacific</th>\n",
       "      <td>63818526.25</td>\n",
       "    </tr>\n",
       "    <tr>\n",
       "      <th>...</th>\n",
       "      <th>...</th>\n",
       "      <td>...</td>\n",
       "    </tr>\n",
       "    <tr>\n",
       "      <th>2016</th>\n",
       "      <th>Nauru</th>\n",
       "      <td>0.00</td>\n",
       "    </tr>\n",
       "    <tr>\n",
       "      <th>2015</th>\n",
       "      <th>Fr. So. Ant. Tr</th>\n",
       "      <td>0.00</td>\n",
       "    </tr>\n",
       "    <tr>\n",
       "      <th rowspan=\"2\" valign=\"top\">2016</th>\n",
       "      <th>Montserrat</th>\n",
       "      <td>0.00</td>\n",
       "    </tr>\n",
       "    <tr>\n",
       "      <th>Bouvet Island</th>\n",
       "      <td>0.00</td>\n",
       "    </tr>\n",
       "    <tr>\n",
       "      <th>2015</th>\n",
       "      <th>United States Minor Outlying I</th>\n",
       "      <td>0.00</td>\n",
       "    </tr>\n",
       "  </tbody>\n",
       "</table>\n",
       "<p>463 rows × 1 columns</p>\n",
       "</div>"
      ],
      "text/plain": [
       "                                     Export (US$ Thousand)\n",
       "Year Partner Name                                         \n",
       "2015  World                                   343907651.83\n",
       "2016  World                                   301780443.39\n",
       "     Europe & Central Asia                    193926312.70\n",
       "2015 Europe & Central Asia                    188344810.70\n",
       "     East Asia & Pacific                       63818526.25\n",
       "...                                                    ...\n",
       "2016 Nauru                                            0.00\n",
       "2015 Fr. So. Ant. Tr                                  0.00\n",
       "2016 Montserrat                                       0.00\n",
       "     Bouvet Island                                    0.00\n",
       "2015 United States Minor Outlying I                   0.00\n",
       "\n",
       "[463 rows x 1 columns]"
      ]
     },
     "execution_count": 25,
     "metadata": {},
     "output_type": "execute_result"
    }
   ],
   "source": [
    "df_export.pivot_table(index=['Year', 'Partner Name'],\n",
    "    values='Export (US$ Thousand)', aggfunc='sum').sort_values('Export (US$ Thousand)', ascending=False)"
   ]
  },
  {
   "cell_type": "markdown",
   "id": "dd601994-025a-4a8c-ace5-956d7001eee0",
   "metadata": {},
   "source": [
    "Этот функционал аналогичен сводным таблицам в экселе, in fact в английской локали в экселе они тоже пивоты"
   ]
  },
  {
   "cell_type": "code",
   "execution_count": 26,
   "id": "f3521092-e99e-4310-bece-687003b5e641",
   "metadata": {},
   "outputs": [],
   "source": [
    "df_export_filtered = df_export[df_export['Partner Name'] != 'Europe & Central Asia']"
   ]
  },
  {
   "cell_type": "code",
   "execution_count": 27,
   "id": "6da6cc60-aef3-4fd0-8851-f27e4a376eb4",
   "metadata": {},
   "outputs": [
    {
     "data": {
      "text/html": [
       "<div>\n",
       "<style scoped>\n",
       "    .dataframe tbody tr th:only-of-type {\n",
       "        vertical-align: middle;\n",
       "    }\n",
       "\n",
       "    .dataframe tbody tr th {\n",
       "        vertical-align: top;\n",
       "    }\n",
       "\n",
       "    .dataframe thead th {\n",
       "        text-align: right;\n",
       "    }\n",
       "</style>\n",
       "<table border=\"1\" class=\"dataframe\">\n",
       "  <thead>\n",
       "    <tr style=\"text-align: right;\">\n",
       "      <th></th>\n",
       "      <th></th>\n",
       "      <th>Export (US$ Thousand)</th>\n",
       "    </tr>\n",
       "    <tr>\n",
       "      <th>Year</th>\n",
       "      <th>Partner Name</th>\n",
       "      <th></th>\n",
       "    </tr>\n",
       "  </thead>\n",
       "  <tbody>\n",
       "    <tr>\n",
       "      <th>2015</th>\n",
       "      <th>World</th>\n",
       "      <td>343907651.83</td>\n",
       "    </tr>\n",
       "    <tr>\n",
       "      <th>2016</th>\n",
       "      <th>World</th>\n",
       "      <td>301780443.39</td>\n",
       "    </tr>\n",
       "    <tr>\n",
       "      <th>2015</th>\n",
       "      <th>East Asia &amp; Pacific</th>\n",
       "      <td>63818526.25</td>\n",
       "    </tr>\n",
       "    <tr>\n",
       "      <th>2016</th>\n",
       "      <th>East Asia &amp; Pacific</th>\n",
       "      <td>59469328.54</td>\n",
       "    </tr>\n",
       "    <tr>\n",
       "      <th>2015</th>\n",
       "      <th>Unspecified</th>\n",
       "      <td>53098256.49</td>\n",
       "    </tr>\n",
       "    <tr>\n",
       "      <th>...</th>\n",
       "      <th>...</th>\n",
       "      <td>...</td>\n",
       "    </tr>\n",
       "    <tr>\n",
       "      <th>2016</th>\n",
       "      <th>Nauru</th>\n",
       "      <td>0.00</td>\n",
       "    </tr>\n",
       "    <tr>\n",
       "      <th>2015</th>\n",
       "      <th>Fr. So. Ant. Tr</th>\n",
       "      <td>0.00</td>\n",
       "    </tr>\n",
       "    <tr>\n",
       "      <th>2016</th>\n",
       "      <th>Montserrat</th>\n",
       "      <td>0.00</td>\n",
       "    </tr>\n",
       "    <tr>\n",
       "      <th rowspan=\"2\" valign=\"top\">2015</th>\n",
       "      <th>Greenland</th>\n",
       "      <td>0.00</td>\n",
       "    </tr>\n",
       "    <tr>\n",
       "      <th>United States Minor Outlying I</th>\n",
       "      <td>0.00</td>\n",
       "    </tr>\n",
       "  </tbody>\n",
       "</table>\n",
       "<p>461 rows × 1 columns</p>\n",
       "</div>"
      ],
      "text/plain": [
       "                                     Export (US$ Thousand)\n",
       "Year Partner Name                                         \n",
       "2015  World                                   343907651.83\n",
       "2016  World                                   301780443.39\n",
       "2015 East Asia & Pacific                       63818526.25\n",
       "2016 East Asia & Pacific                       59469328.54\n",
       "2015 Unspecified                               53098256.49\n",
       "...                                                    ...\n",
       "2016 Nauru                                            0.00\n",
       "2015 Fr. So. Ant. Tr                                  0.00\n",
       "2016 Montserrat                                       0.00\n",
       "2015 Greenland                                        0.00\n",
       "     United States Minor Outlying I                   0.00\n",
       "\n",
       "[461 rows x 1 columns]"
      ]
     },
     "execution_count": 27,
     "metadata": {},
     "output_type": "execute_result"
    }
   ],
   "source": [
    "df_export_filtered.pivot_table(index=['Year', 'Partner Name'],\n",
    "    values='Export (US$ Thousand)', aggfunc='sum').sort_values('Export (US$ Thousand)', ascending=False)"
   ]
  },
  {
   "cell_type": "code",
   "execution_count": 28,
   "id": "d66f2208-aabe-44f1-bcc1-72ad2d7455ac",
   "metadata": {},
   "outputs": [],
   "source": [
    "exclude = ['Europe & Central Asia', 'East Asia & Pacific', ' World',\n",
    "    'Unspecified', 'Middle East & North Africa']"
   ]
  },
  {
   "cell_type": "code",
   "execution_count": 29,
   "id": "67c62e33-20d8-48d0-9e12-0ece70bab006",
   "metadata": {},
   "outputs": [],
   "source": [
    "export_filtered = df_export[-df_export['Partner Name'].isin(exclude)]"
   ]
  },
  {
   "cell_type": "code",
   "execution_count": 30,
   "id": "fae5b407-e8ce-4066-b2c6-18697cfb828b",
   "metadata": {},
   "outputs": [
    {
     "data": {
      "text/html": [
       "<div>\n",
       "<style scoped>\n",
       "    .dataframe tbody tr th:only-of-type {\n",
       "        vertical-align: middle;\n",
       "    }\n",
       "\n",
       "    .dataframe tbody tr th {\n",
       "        vertical-align: top;\n",
       "    }\n",
       "\n",
       "    .dataframe thead th {\n",
       "        text-align: right;\n",
       "    }\n",
       "</style>\n",
       "<table border=\"1\" class=\"dataframe\">\n",
       "  <thead>\n",
       "    <tr style=\"text-align: right;\">\n",
       "      <th></th>\n",
       "      <th></th>\n",
       "      <th>Export (US$ Thousand)</th>\n",
       "    </tr>\n",
       "    <tr>\n",
       "      <th>Year</th>\n",
       "      <th>Partner Name</th>\n",
       "      <th></th>\n",
       "    </tr>\n",
       "  </thead>\n",
       "  <tbody>\n",
       "    <tr>\n",
       "      <th>2015</th>\n",
       "      <th>Netherlands</th>\n",
       "      <td>40198496.43</td>\n",
       "    </tr>\n",
       "    <tr>\n",
       "      <th rowspan=\"2\" valign=\"top\">2016</th>\n",
       "      <th>Netherlands</th>\n",
       "      <td>31816200.18</td>\n",
       "    </tr>\n",
       "    <tr>\n",
       "      <th>China</th>\n",
       "      <td>29953376.57</td>\n",
       "    </tr>\n",
       "    <tr>\n",
       "      <th>2015</th>\n",
       "      <th>China</th>\n",
       "      <td>28334954.57</td>\n",
       "    </tr>\n",
       "    <tr>\n",
       "      <th rowspan=\"4\" valign=\"top\">2016</th>\n",
       "      <th>Germany</th>\n",
       "      <td>21452143.28</td>\n",
       "    </tr>\n",
       "    <tr>\n",
       "      <th>...</th>\n",
       "      <td>...</td>\n",
       "    </tr>\n",
       "    <tr>\n",
       "      <th>St. Kitts and Nevis</th>\n",
       "      <td>0.00</td>\n",
       "    </tr>\n",
       "    <tr>\n",
       "      <th>Fr. So. Ant. Tr</th>\n",
       "      <td>0.00</td>\n",
       "    </tr>\n",
       "    <tr>\n",
       "      <th rowspan=\"2\" valign=\"top\">2015</th>\n",
       "      <th>Kiribati</th>\n",
       "      <td>0.00</td>\n",
       "    </tr>\n",
       "    <tr>\n",
       "      <th>British Indian Ocean Ter.</th>\n",
       "      <td>0.00</td>\n",
       "    </tr>\n",
       "    <tr>\n",
       "      <th>2016</th>\n",
       "      <th>Pitcairn</th>\n",
       "      <td>0.00</td>\n",
       "    </tr>\n",
       "  </tbody>\n",
       "</table>\n",
       "<p>453 rows × 1 columns</p>\n",
       "</div>"
      ],
      "text/plain": [
       "                                Export (US$ Thousand)\n",
       "Year Partner Name                                    \n",
       "2015 Netherlands                          40198496.43\n",
       "2016 Netherlands                          31816200.18\n",
       "     China                                29953376.57\n",
       "2015 China                                28334954.57\n",
       "2016 Germany                              21452143.28\n",
       "...                                               ...\n",
       "     St. Kitts and Nevis                         0.00\n",
       "     Fr. So. Ant. Tr                             0.00\n",
       "2015 Kiribati                                    0.00\n",
       "     British Indian Ocean Ter.                   0.00\n",
       "2016 Pitcairn                                    0.00\n",
       "\n",
       "[453 rows x 1 columns]"
      ]
     },
     "execution_count": 30,
     "metadata": {},
     "output_type": "execute_result"
    }
   ],
   "source": [
    "export_filtered.pivot_table(index=['Year', 'Partner Name'], \n",
    "                values='Export (US$ Thousand)', aggfunc='sum')\\\n",
    "            .sort_values('Export (US$ Thousand)', ascending=False)\n"
   ]
  },
  {
   "cell_type": "code",
   "execution_count": 31,
   "id": "7759e389-1b23-4c91-8bbf-3064fc61883b",
   "metadata": {},
   "outputs": [],
   "source": [
    "export_pivot = export_filtered.pivot_table(index=['Year', 'Partner Name'],\n",
    "                values='Export (US$ Thousand)', aggfunc='sum')\\\n",
    "            .sort_values(\n",
    "                ['Year', 'Export (US$ Thousand)'],\n",
    "                ascending=[True, False]\n",
    "            )"
   ]
  },
  {
   "cell_type": "markdown",
   "id": "8f5aa65d-82a6-4372-8c6d-885c4607f380",
   "metadata": {},
   "source": [
    "А еще можно разные агрегационные функции передавать, в том числе кастомные, т.к. пивот принимает callable"
   ]
  },
  {
   "cell_type": "code",
   "execution_count": 32,
   "id": "11527967-1375-48b7-86a9-f494567fc9bb",
   "metadata": {},
   "outputs": [
    {
     "data": {
      "text/html": [
       "<div>\n",
       "<style scoped>\n",
       "    .dataframe tbody tr th:only-of-type {\n",
       "        vertical-align: middle;\n",
       "    }\n",
       "\n",
       "    .dataframe tbody tr th {\n",
       "        vertical-align: top;\n",
       "    }\n",
       "\n",
       "    .dataframe thead th {\n",
       "        text-align: right;\n",
       "    }\n",
       "</style>\n",
       "<table border=\"1\" class=\"dataframe\">\n",
       "  <thead>\n",
       "    <tr style=\"text-align: right;\">\n",
       "      <th></th>\n",
       "      <th></th>\n",
       "      <th>Export (US$ Thousand)</th>\n",
       "    </tr>\n",
       "    <tr>\n",
       "      <th>Year</th>\n",
       "      <th>Partner Name</th>\n",
       "      <th></th>\n",
       "    </tr>\n",
       "  </thead>\n",
       "  <tbody>\n",
       "    <tr>\n",
       "      <th rowspan=\"11\" valign=\"top\">2015</th>\n",
       "      <th>Netherlands</th>\n",
       "      <td>40198496.43</td>\n",
       "    </tr>\n",
       "    <tr>\n",
       "      <th>China</th>\n",
       "      <td>28334954.57</td>\n",
       "    </tr>\n",
       "    <tr>\n",
       "      <th>Italy</th>\n",
       "      <td>16204284.05</td>\n",
       "    </tr>\n",
       "    <tr>\n",
       "      <th>Germany</th>\n",
       "      <td>15906242.25</td>\n",
       "    </tr>\n",
       "    <tr>\n",
       "      <th>Japan</th>\n",
       "      <td>14426352.10</td>\n",
       "    </tr>\n",
       "    <tr>\n",
       "      <th>...</th>\n",
       "      <td>...</td>\n",
       "    </tr>\n",
       "    <tr>\n",
       "      <th>Turks and Caicos Isl.</th>\n",
       "      <td>0.00</td>\n",
       "    </tr>\n",
       "    <tr>\n",
       "      <th>Tuvalu</th>\n",
       "      <td>0.00</td>\n",
       "    </tr>\n",
       "    <tr>\n",
       "      <th>United States Minor Outlying I</th>\n",
       "      <td>0.00</td>\n",
       "    </tr>\n",
       "    <tr>\n",
       "      <th>Vanuatu</th>\n",
       "      <td>0.00</td>\n",
       "    </tr>\n",
       "    <tr>\n",
       "      <th>Wallis and Futura Isl.</th>\n",
       "      <td>0.00</td>\n",
       "    </tr>\n",
       "  </tbody>\n",
       "</table>\n",
       "<p>226 rows × 1 columns</p>\n",
       "</div>"
      ],
      "text/plain": [
       "                                     Export (US$ Thousand)\n",
       "Year Partner Name                                         \n",
       "2015 Netherlands                               40198496.43\n",
       "     China                                     28334954.57\n",
       "     Italy                                     16204284.05\n",
       "     Germany                                   15906242.25\n",
       "     Japan                                     14426352.10\n",
       "...                                                    ...\n",
       "     Turks and Caicos Isl.                            0.00\n",
       "     Tuvalu                                           0.00\n",
       "     United States Minor Outlying I                   0.00\n",
       "     Vanuatu                                          0.00\n",
       "     Wallis and Futura Isl.                           0.00\n",
       "\n",
       "[226 rows x 1 columns]"
      ]
     },
     "execution_count": 32,
     "metadata": {},
     "output_type": "execute_result"
    }
   ],
   "source": [
    "export_pivot[export_pivot.index.get_level_values('Year') == 2015]"
   ]
  },
  {
   "cell_type": "markdown",
   "id": "5b2a68b1-c497-434e-97dd-1b05fa0b93e8",
   "metadata": {},
   "source": [
    "Да таки умеет pandas читать html только нужно поставить "
   ]
  },
  {
   "cell_type": "code",
   "execution_count": 33,
   "id": "80a31b5b-b9c1-412e-808c-ec0bffc1ccef",
   "metadata": {},
   "outputs": [
    {
     "data": {
      "text/html": [
       "<div>\n",
       "<style scoped>\n",
       "    .dataframe tbody tr th:only-of-type {\n",
       "        vertical-align: middle;\n",
       "    }\n",
       "\n",
       "    .dataframe tbody tr th {\n",
       "        vertical-align: top;\n",
       "    }\n",
       "\n",
       "    .dataframe thead th {\n",
       "        text-align: right;\n",
       "    }\n",
       "</style>\n",
       "<table border=\"1\" class=\"dataframe\">\n",
       "  <thead>\n",
       "    <tr style=\"text-align: right;\">\n",
       "      <th></th>\n",
       "      <th>Unnamed: 0</th>\n",
       "      <th>Название станцииПрежние названия</th>\n",
       "      <th>Датаоткрытия</th>\n",
       "      <th>Пере-садки</th>\n",
       "      <th>Глубина,м[1]</th>\n",
       "      <th>Тип конструкции</th>\n",
       "      <th>Координаты</th>\n",
       "      <th>Вид станции</th>\n",
       "    </tr>\n",
       "  </thead>\n",
       "  <tbody>\n",
       "    <tr>\n",
       "      <th>0</th>\n",
       "      <td>NaN</td>\n",
       "      <td>Бульвар РокоссовскогоУлица Подбельского (с 01....</td>\n",
       "      <td>1 августа 1990</td>\n",
       "      <td>NaN</td>\n",
       "      <td>−8</td>\n",
       "      <td>колоннаямелкого заложениятрёхпролётная</td>\n",
       "      <td>55°48′53″ с. ш. 37°44′03″ в. д.HЯ</td>\n",
       "      <td>NaN</td>\n",
       "    </tr>\n",
       "    <tr>\n",
       "      <th>1</th>\n",
       "      <td>NaN</td>\n",
       "      <td>Черкизовская</td>\n",
       "      <td>1 августа 1990</td>\n",
       "      <td>NaN</td>\n",
       "      <td>−9</td>\n",
       "      <td>односводчатаямелкого заложения</td>\n",
       "      <td>55°48′14″ с. ш. 37°44′41″ в. д.HЯ</td>\n",
       "      <td>NaN</td>\n",
       "    </tr>\n",
       "    <tr>\n",
       "      <th>2</th>\n",
       "      <td>NaN</td>\n",
       "      <td>Преображенская площадь</td>\n",
       "      <td>31 декабря 1965</td>\n",
       "      <td>NaN</td>\n",
       "      <td>−8</td>\n",
       "      <td>колоннаямелкого заложениятрёхпролётная</td>\n",
       "      <td>55°47′47″ с. ш. 37°42′54″ в. д.HЯ</td>\n",
       "      <td>NaN</td>\n",
       "    </tr>\n",
       "    <tr>\n",
       "      <th>3</th>\n",
       "      <td>NaN</td>\n",
       "      <td>Сокольники</td>\n",
       "      <td>15 мая 1935</td>\n",
       "      <td>NaN</td>\n",
       "      <td>−9</td>\n",
       "      <td>колоннаямелкого заложениятрёхпролётная</td>\n",
       "      <td>55°47′20″ с. ш. 37°40′49″ в. д.HЯ</td>\n",
       "      <td>NaN</td>\n",
       "    </tr>\n",
       "    <tr>\n",
       "      <th>4</th>\n",
       "      <td>NaN</td>\n",
       "      <td>Красносельская</td>\n",
       "      <td>15 мая 1935</td>\n",
       "      <td>NaN</td>\n",
       "      <td>−8</td>\n",
       "      <td>колоннаямелкого заложениядвухпролётная</td>\n",
       "      <td>55°46′48″ с. ш. 37°40′02″ в. д.HЯ</td>\n",
       "      <td>NaN</td>\n",
       "    </tr>\n",
       "  </tbody>\n",
       "</table>\n",
       "</div>"
      ],
      "text/plain": [
       "   Unnamed: 0                   Название станцииПрежние названия  \\\n",
       "0         NaN  Бульвар РокоссовскогоУлица Подбельского (с 01....   \n",
       "1         NaN                                       Черкизовская   \n",
       "2         NaN                             Преображенская площадь   \n",
       "3         NaN                                         Сокольники   \n",
       "4         NaN                                     Красносельская   \n",
       "\n",
       "      Датаоткрытия Пере-садки Глубина,м[1]  \\\n",
       "0   1 августа 1990        NaN           −8   \n",
       "1   1 августа 1990        NaN           −9   \n",
       "2  31 декабря 1965        NaN           −8   \n",
       "3      15 мая 1935        NaN           −9   \n",
       "4      15 мая 1935        NaN           −8   \n",
       "\n",
       "                          Тип конструкции                         Координаты  \\\n",
       "0  колоннаямелкого заложениятрёхпролётная  55°48′53″ с. ш. 37°44′03″ в. д.HЯ   \n",
       "1          односводчатаямелкого заложения  55°48′14″ с. ш. 37°44′41″ в. д.HЯ   \n",
       "2  колоннаямелкого заложениятрёхпролётная  55°47′47″ с. ш. 37°42′54″ в. д.HЯ   \n",
       "3  колоннаямелкого заложениятрёхпролётная  55°47′20″ с. ш. 37°40′49″ в. д.HЯ   \n",
       "4  колоннаямелкого заложениядвухпролётная  55°46′48″ с. ш. 37°40′02″ в. д.HЯ   \n",
       "\n",
       "   Вид станции  \n",
       "0          NaN  \n",
       "1          NaN  \n",
       "2          NaN  \n",
       "3          NaN  \n",
       "4          NaN  "
      ]
     },
     "execution_count": 33,
     "metadata": {},
     "output_type": "execute_result"
    }
   ],
   "source": [
    "URL = \"https://ru.wikipedia.org/wiki/%D0%A1%D0%BF%D0%B8%D1%81%D0%BE%D0%BA_%D1%81%D1%82%D0%B0%D0%BD%D1%86%D0%B8%D0%B9_%D0%9C%D0%BE%D1%81%D0%BA%D0%BE%D0%B2%D1%81%D0%BA%D0%BE%D0%B3%D0%BE_%D0%BC%D0%B5%D1%82%D1%80%D0%BE%D0%BF%D0%BE%D0%BB%D0%B8%D1%82%D0%B5%D0%BD%D0%B0\"\n",
    "result = pd.read_html(URL, attrs={\"class\": \"standard\"}, header=0)\n",
    "result[0].head()"
   ]
  },
  {
   "cell_type": "code",
   "execution_count": 34,
   "id": "d15ea875-37ba-4bb6-9134-60c0704af326",
   "metadata": {},
   "outputs": [],
   "source": [
    "%matplotlib inline"
   ]
  },
  {
   "cell_type": "code",
   "execution_count": 35,
   "id": "a0339bc7-069b-412b-8bf1-c64955aebe8e",
   "metadata": {},
   "outputs": [
    {
     "data": {
      "image/png": "[encoded data removed]",
      "text/plain": [
       "<Figure size 640x480 with 1 Axes>"
      ]
     },
     "metadata": {},
     "output_type": "display_data"
    }
   ],
   "source": [
    "data_x1 = range(1, 100, 5)\n",
    "data_y1 = range(0, 20)\n",
    "plt.plot(data_x1, data_y1)\n",
    "plt.show()"
   ]
  },
  {
   "cell_type": "code",
   "execution_count": 36,
   "id": "e36d362b-8ca6-4402-9e3a-b5e488a74bd8",
   "metadata": {},
   "outputs": [
    {
     "data": {
      "image/png": "[encoded data removed]",
      "text/plain": [
       "<Figure size 640x480 with 1 Axes>"
      ]
     },
     "metadata": {},
     "output_type": "display_data"
    }
   ],
   "source": [
    "data_x2 = sample(range(500), 5)\n",
    "data_y2 = sample(range(100), 5)\n",
    "data_x2.sort()\n",
    "data_y2.sort()\n",
    "plt.plot(data_x2, data_y2)\n",
    "plt.show()"
   ]
  },
  {
   "cell_type": "code",
   "execution_count": 37,
   "id": "3c34cbc3-531e-40c4-882c-3cddaf9488ac",
   "metadata": {},
   "outputs": [
    {
     "data": {
      "image/png": "[encoded data removed]",
      "text/plain": [
       "<Figure size 640x480 with 1 Axes>"
      ]
     },
     "metadata": {},
     "output_type": "display_data"
    },
    {
     "data": {
      "image/png": "[encoded data removed]",
      "text/plain": [
       "<Figure size 640x480 with 1 Axes>"
      ]
     },
     "metadata": {},
     "output_type": "display_data"
    }
   ],
   "source": [
    "plt.plot(data_x1, data_y1, color='red', linestyle='dashed')\n",
    "plt.figure()\n",
    "plt.plot(data_x2, data_y2, color='green', linestyle='dotted', linewidth=5)\n",
    "plt.show()"
   ]
  },
  {
   "cell_type": "code",
   "execution_count": 38,
   "id": "22e4a29b-24d2-45bd-b6fa-4cfe2976edf5",
   "metadata": {},
   "outputs": [
    {
     "data": {
      "image/png": "[encoded data removed]",
      "text/plain": [
       "<Figure size 640x480 with 1 Axes>"
      ]
     },
     "metadata": {},
     "output_type": "display_data"
    }
   ],
   "source": [
    "pavilion_count = df.groupby(['Pavilion']).size()\n",
    "plt.pie(pavilion_count, labels=pavilion_count.index, autopct='%.2f')\n",
    "plt.title('Остановки')\n",
    "plt.legend()\n",
    "plt.show()"
   ]
  },
  {
   "cell_type": "code",
   "execution_count": 39,
   "id": "32ef5b02-8eff-491a-bfb8-3f4592825637",
   "metadata": {},
   "outputs": [
    {
     "data": {
      "image/png": "[encoded data removed]",
      "text/plain": [
       "<Figure size 640x480 with 1 Axes>"
      ]
     },
     "metadata": {},
     "output_type": "display_data"
    }
   ],
   "source": [
    "admarea_count = df.groupby(['AdmArea']).size()\n",
    "labels = [\n",
    "    'ВАО', 'ЗАО', 'Зел', 'Нов', 'САО', 'СВАО', 'СЗАО',\n",
    "    'Тро', 'ЦАО', 'ЮВАО', 'ЮЗАО', 'ЮАО'\n",
    "]\n",
    "plt.bar(labels, admarea_count)\n",
    "plt.title('Остановки по районам')\n",
    "plt.show()"
   ]
  },
  {
   "cell_type": "code",
   "execution_count": 40,
   "id": "1db1ad13-165d-421f-8382-359fd75e4375",
   "metadata": {},
   "outputs": [
    {
     "data": {
      "image/png": "[encoded data removed]",
      "text/plain": [
       "<Figure size 640x480 with 1 Axes>"
      ]
     },
     "metadata": {},
     "output_type": "display_data"
    }
   ],
   "source": [
    "cmap = get_cmap('tab20')\n",
    "colors = [cmap(i) for i in range(len(labels))]\n",
    "plt.bar(labels, admarea_count, color=colors)\n",
    "plt.show()"
   ]
  },
  {
   "cell_type": "code",
   "execution_count": null,
   "id": "837f950d-b466-4374-94ff-4531ae653460",
   "metadata": {},
   "outputs": [],
   "source": []
  },
  {
   "cell_type": "markdown",
   "id": "57bba8f5-e4b9-401c-8b5d-66c123d76869",
   "metadata": {},
   "source": [
    "## Титаник"
   ]
  },
  {
   "cell_type": "code",
   "execution_count": 72,
   "id": "b42b8ff9-df3b-43ef-bea4-591541da014b",
   "metadata": {},
   "outputs": [],
   "source": [
    "df_titanic = pd.read_csv(\"./titanic/train.csv\")"
   ]
  },
  {
   "cell_type": "code",
   "execution_count": 73,
   "id": "b454c31b-0ccd-4bf6-aaeb-34be0ba63de8",
   "metadata": {},
   "outputs": [
    {
     "data": {
      "text/html": [
       "<div>\n",
       "<style scoped>\n",
       "    .dataframe tbody tr th:only-of-type {\n",
       "        vertical-align: middle;\n",
       "    }\n",
       "\n",
       "    .dataframe tbody tr th {\n",
       "        vertical-align: top;\n",
       "    }\n",
       "\n",
       "    .dataframe thead th {\n",
       "        text-align: right;\n",
       "    }\n",
       "</style>\n",
       "<table border=\"1\" class=\"dataframe\">\n",
       "  <thead>\n",
       "    <tr style=\"text-align: right;\">\n",
       "      <th></th>\n",
       "      <th>PassengerId</th>\n",
       "      <th>Survived</th>\n",
       "      <th>Pclass</th>\n",
       "      <th>Name</th>\n",
       "      <th>Sex</th>\n",
       "      <th>Age</th>\n",
       "      <th>SibSp</th>\n",
       "      <th>Parch</th>\n",
       "      <th>Ticket</th>\n",
       "      <th>Fare</th>\n",
       "      <th>Cabin</th>\n",
       "      <th>Embarked</th>\n",
       "    </tr>\n",
       "  </thead>\n",
       "  <tbody>\n",
       "    <tr>\n",
       "      <th>0</th>\n",
       "      <td>1</td>\n",
       "      <td>0</td>\n",
       "      <td>3</td>\n",
       "      <td>Braund, Mr. Owen Harris</td>\n",
       "      <td>male</td>\n",
       "      <td>22.00</td>\n",
       "      <td>1</td>\n",
       "      <td>0</td>\n",
       "      <td>A/5 21171</td>\n",
       "      <td>7.25</td>\n",
       "      <td>NaN</td>\n",
       "      <td>S</td>\n",
       "    </tr>\n",
       "    <tr>\n",
       "      <th>1</th>\n",
       "      <td>2</td>\n",
       "      <td>1</td>\n",
       "      <td>1</td>\n",
       "      <td>Cumings, Mrs. John Bradley (Florence Briggs Th...</td>\n",
       "      <td>female</td>\n",
       "      <td>38.00</td>\n",
       "      <td>1</td>\n",
       "      <td>0</td>\n",
       "      <td>PC 17599</td>\n",
       "      <td>71.28</td>\n",
       "      <td>C85</td>\n",
       "      <td>C</td>\n",
       "    </tr>\n",
       "    <tr>\n",
       "      <th>2</th>\n",
       "      <td>3</td>\n",
       "      <td>1</td>\n",
       "      <td>3</td>\n",
       "      <td>Heikkinen, Miss. Laina</td>\n",
       "      <td>female</td>\n",
       "      <td>26.00</td>\n",
       "      <td>0</td>\n",
       "      <td>0</td>\n",
       "      <td>STON/O2. 3101282</td>\n",
       "      <td>7.92</td>\n",
       "      <td>NaN</td>\n",
       "      <td>S</td>\n",
       "    </tr>\n",
       "    <tr>\n",
       "      <th>3</th>\n",
       "      <td>4</td>\n",
       "      <td>1</td>\n",
       "      <td>1</td>\n",
       "      <td>Futrelle, Mrs. Jacques Heath (Lily May Peel)</td>\n",
       "      <td>female</td>\n",
       "      <td>35.00</td>\n",
       "      <td>1</td>\n",
       "      <td>0</td>\n",
       "      <td>113803</td>\n",
       "      <td>53.10</td>\n",
       "      <td>C123</td>\n",
       "      <td>S</td>\n",
       "    </tr>\n",
       "    <tr>\n",
       "      <th>4</th>\n",
       "      <td>5</td>\n",
       "      <td>0</td>\n",
       "      <td>3</td>\n",
       "      <td>Allen, Mr. William Henry</td>\n",
       "      <td>male</td>\n",
       "      <td>35.00</td>\n",
       "      <td>0</td>\n",
       "      <td>0</td>\n",
       "      <td>373450</td>\n",
       "      <td>8.05</td>\n",
       "      <td>NaN</td>\n",
       "      <td>S</td>\n",
       "    </tr>\n",
       "  </tbody>\n",
       "</table>\n",
       "</div>"
      ],
      "text/plain": [
       "   PassengerId  Survived  Pclass  \\\n",
       "0            1         0       3   \n",
       "1            2         1       1   \n",
       "2            3         1       3   \n",
       "3            4         1       1   \n",
       "4            5         0       3   \n",
       "\n",
       "                                                Name     Sex   Age  SibSp  \\\n",
       "0                            Braund, Mr. Owen Harris    male 22.00      1   \n",
       "1  Cumings, Mrs. John Bradley (Florence Briggs Th...  female 38.00      1   \n",
       "2                             Heikkinen, Miss. Laina  female 26.00      0   \n",
       "3       Futrelle, Mrs. Jacques Heath (Lily May Peel)  female 35.00      1   \n",
       "4                           Allen, Mr. William Henry    male 35.00      0   \n",
       "\n",
       "   Parch            Ticket  Fare Cabin Embarked  \n",
       "0      0         A/5 21171  7.25   NaN        S  \n",
       "1      0          PC 17599 71.28   C85        C  \n",
       "2      0  STON/O2. 3101282  7.92   NaN        S  \n",
       "3      0            113803 53.10  C123        S  \n",
       "4      0            373450  8.05   NaN        S  "
      ]
     },
     "execution_count": 73,
     "metadata": {},
     "output_type": "execute_result"
    }
   ],
   "source": [
    "df_titanic.head()"
   ]
  },
  {
   "cell_type": "code",
   "execution_count": 74,
   "id": "d7a9c323-9efe-41bc-8c40-d204c13a910d",
   "metadata": {},
   "outputs": [
    {
     "name": "stdout",
     "output_type": "stream",
     "text": [
      "<class 'pandas.core.frame.DataFrame'>\n",
      "RangeIndex: 891 entries, 0 to 890\n",
      "Data columns (total 12 columns):\n",
      " #   Column       Non-Null Count  Dtype  \n",
      "---  ------       --------------  -----  \n",
      " 0   PassengerId  891 non-null    int64  \n",
      " 1   Survived     891 non-null    int64  \n",
      " 2   Pclass       891 non-null    int64  \n",
      " 3   Name         891 non-null    object \n",
      " 4   Sex          891 non-null    object \n",
      " 5   Age          714 non-null    float64\n",
      " 6   SibSp        891 non-null    int64  \n",
      " 7   Parch        891 non-null    int64  \n",
      " 8   Ticket       891 non-null    object \n",
      " 9   Fare         891 non-null    float64\n",
      " 10  Cabin        204 non-null    object \n",
      " 11  Embarked     889 non-null    object \n",
      "dtypes: float64(2), int64(5), object(5)\n",
      "memory usage: 83.7+ KB\n"
     ]
    }
   ],
   "source": [
    "df_titanic.info()"
   ]
  },
  {
   "cell_type": "markdown",
   "id": "ff663926-af1a-4987-8c10-a6d1b921b28e",
   "metadata": {},
   "source": [
    "Есть пропуски, заполним их"
   ]
  },
  {
   "cell_type": "code",
   "execution_count": 75,
   "id": "8757d1e6-7934-4f19-a142-3f31c5f5204a",
   "metadata": {},
   "outputs": [],
   "source": [
    "embarked = df_titanic.groupby('Embarked').count()['PassengerId']\n",
    "embarked_max = embarked[embarked == embarked.max()].index[0]\n",
    "df_titanic.loc[df_titanic['Embarked'].isnull(), 'Embarked'] = embarked_max"
   ]
  },
  {
   "cell_type": "code",
   "execution_count": 76,
   "id": "f7d173b1-89dd-46d6-a418-f9d5a0749f29",
   "metadata": {},
   "outputs": [
    {
     "data": {
      "text/plain": [
       "array(['Mr', 'Mrs', 'Miss', 'Master', 'Don', 'Rev', 'Dr', 'Mme', 'Ms',\n",
       "       'Major', 'Lady', 'Sir', 'Mlle', 'Col', 'Capt', 'Countess',\n",
       "       'Jonkheer'], dtype=object)"
      ]
     },
     "execution_count": 76,
     "metadata": {},
     "output_type": "execute_result"
    }
   ],
   "source": [
    "df_titanic['Title'] = df_titanic['Name'].str.extract('([A-Za-z]+)\\.')\n",
    "df_titanic['Title'].unique()"
   ]
  },
  {
   "cell_type": "code",
   "execution_count": 77,
   "id": "d91114dd-8d82-41ae-b06e-831eaf2c1c06",
   "metadata": {},
   "outputs": [],
   "source": [
    "mapping = {'Don': 'RoyaltyM', 'Mme': 'Miss', 'Ms': 'Miss',\n",
    "    'Major': 'Officer', 'Lady': 'RoyaltyF', 'Sir': 'RoyaltyM', \n",
    "    'Mlle': 'Miss', 'Col': 'Officer', 'Capt': 'Officer',\n",
    "    'Countess': 'RoyaltyF', 'Jonkheer': 'RoyaltyM'}"
   ]
  },
  {
   "cell_type": "code",
   "execution_count": 78,
   "id": "3e14616a-ed65-4c26-8441-5c261d66848f",
   "metadata": {},
   "outputs": [
    {
     "data": {
      "text/plain": [
       "array(['Mr', 'Mrs', 'Miss', 'Master', 'RoyaltyM', 'Rev', 'Dr', 'Officer',\n",
       "       'RoyaltyF'], dtype=object)"
      ]
     },
     "execution_count": 78,
     "metadata": {},
     "output_type": "execute_result"
    }
   ],
   "source": [
    "df_titanic.replace({'Title': mapping}, inplace=True)\n",
    "df_titanic['Title'].unique()"
   ]
  },
  {
   "cell_type": "markdown",
   "id": "1b9747d0-9718-46b5-bbd3-3560f6c1df8f",
   "metadata": {},
   "source": [
    "А тут мы сделали из приставок статусы социальные, ну ок)"
   ]
  },
  {
   "cell_type": "code",
   "execution_count": 79,
   "id": "a12946a0-32db-4e75-9534-a194e55ac5a6",
   "metadata": {},
   "outputs": [],
   "source": [
    "age_med = df_titanic.groupby('Title')['Age'].median()"
   ]
  },
  {
   "cell_type": "markdown",
   "id": "e6039ccf-3e14-4e6a-8f48-b35b0c79eb24",
   "metadata": {},
   "source": [
    "Заполняем пропуски"
   ]
  },
  {
   "cell_type": "code",
   "execution_count": 81,
   "id": "128597f6-fd81-429b-8d5a-d1befd757781",
   "metadata": {},
   "outputs": [],
   "source": [
    "df_titanic['Age'] = df_titanic['Age'].fillna(df_titanic.groupby('Title')['Age'].transform('median'))"
   ]
  },
  {
   "cell_type": "code",
   "execution_count": 82,
   "id": "76b60519-cca8-45a3-af8c-dc8b4425b01c",
   "metadata": {},
   "outputs": [
    {
     "data": {
      "text/plain": [
       "0"
      ]
     },
     "execution_count": 82,
     "metadata": {},
     "output_type": "execute_result"
    }
   ],
   "source": [
    "df_titanic['Age'].isna().sum()"
   ]
  },
  {
   "cell_type": "markdown",
   "id": "8f7ace92-0622-4f2c-a523-f86de94f4973",
   "metadata": {},
   "source": [
    "Аналогичный код ниже) но я написал нечто pandas-way"
   ]
  },
  {
   "cell_type": "code",
   "execution_count": 49,
   "id": "e70ec163-5164-41d4-971f-f6851763b7b0",
   "metadata": {},
   "outputs": [],
   "source": [
    "#for title, age in age_med.iteritems():\n",
    "#    filter_age = df_titanic['Age'].isnull()\n",
    "#    filter_title = df_titanic['Title'] == title\n",
    "#    df_titanic.loc[filter_age & filter_title, 'Age'] = age"
   ]
  },
  {
   "cell_type": "code",
   "execution_count": 83,
   "id": "af5cb7c9-ed54-4f0c-8e6b-5d2849275730",
   "metadata": {},
   "outputs": [
    {
     "data": {
      "text/html": [
       "<div>\n",
       "<style scoped>\n",
       "    .dataframe tbody tr th:only-of-type {\n",
       "        vertical-align: middle;\n",
       "    }\n",
       "\n",
       "    .dataframe tbody tr th {\n",
       "        vertical-align: top;\n",
       "    }\n",
       "\n",
       "    .dataframe thead th {\n",
       "        text-align: right;\n",
       "    }\n",
       "</style>\n",
       "<table border=\"1\" class=\"dataframe\">\n",
       "  <thead>\n",
       "    <tr style=\"text-align: right;\">\n",
       "      <th>Survived</th>\n",
       "      <th>0</th>\n",
       "      <th>1</th>\n",
       "    </tr>\n",
       "    <tr>\n",
       "      <th>Pclass</th>\n",
       "      <th></th>\n",
       "      <th></th>\n",
       "    </tr>\n",
       "  </thead>\n",
       "  <tbody>\n",
       "    <tr>\n",
       "      <th>1</th>\n",
       "      <td>80</td>\n",
       "      <td>136</td>\n",
       "    </tr>\n",
       "    <tr>\n",
       "      <th>2</th>\n",
       "      <td>97</td>\n",
       "      <td>87</td>\n",
       "    </tr>\n",
       "    <tr>\n",
       "      <th>3</th>\n",
       "      <td>372</td>\n",
       "      <td>119</td>\n",
       "    </tr>\n",
       "  </tbody>\n",
       "</table>\n",
       "</div>"
      ],
      "text/plain": [
       "Survived    0    1\n",
       "Pclass            \n",
       "1          80  136\n",
       "2          97   87\n",
       "3         372  119"
      ]
     },
     "execution_count": 83,
     "metadata": {},
     "output_type": "execute_result"
    }
   ],
   "source": [
    "df_titanic.pivot_table(values='PassengerId', index='Pclass',\n",
    "    columns='Survived', aggfunc='count')"
   ]
  },
  {
   "cell_type": "markdown",
   "id": "344de3e1-f2a3-4e2e-85cb-23d6e355339e",
   "metadata": {},
   "source": [
    "Вот у нас и есть классы для предсказаний"
   ]
  },
  {
   "cell_type": "code",
   "execution_count": 85,
   "id": "7b66e69e-6761-4c59-ae47-9827a82913a9",
   "metadata": {},
   "outputs": [
    {
     "data": {
      "text/plain": [
       "<AxesSubplot:xlabel='Pclass'>"
      ]
     },
     "execution_count": 85,
     "metadata": {},
     "output_type": "execute_result"
    },
    {
     "data": {
      "image/png": "[encoded data removed]",
      "text/plain": [
       "<Figure size 640x480 with 1 Axes>"
      ]
     },
     "metadata": {},
     "output_type": "display_data"
    }
   ],
   "source": [
    "surv_pclass = df_titanic.pivot_table(values='PassengerId', index='Pclass',\n",
    "    columns='Survived', aggfunc='count')\n",
    "\n",
    "surv_pclass.plot(kind='bar', stacked=True)"
   ]
  },
  {
   "cell_type": "code",
   "execution_count": 86,
   "id": "1eb029a8-557f-4740-b6ce-c9414192576a",
   "metadata": {},
   "outputs": [
    {
     "data": {
      "text/plain": [
       "<AxesSubplot:xlabel='Title'>"
      ]
     },
     "execution_count": 86,
     "metadata": {},
     "output_type": "execute_result"
    },
    {
     "data": {
      "image/png": "[encoded data removed]",
      "text/plain": [
       "<Figure size 2000x2000 with 1 Axes>"
      ]
     },
     "metadata": {},
     "output_type": "display_data"
    }
   ],
   "source": [
    "surv_title = df_titanic.pivot_table(values='PassengerId', index='Title',\n",
    "    columns='Survived', aggfunc='count')\n",
    "\n",
    "surv_title.plot(kind='bar', figsize=(20,20))"
   ]
  },
  {
   "cell_type": "code",
   "execution_count": null,
   "id": "93ebabf1-cbe1-4fcd-863a-cff2cf466064",
   "metadata": {},
   "outputs": [],
   "source": []
  },
  {
   "cell_type": "code",
   "execution_count": null,
   "id": "039d4cbd-9d0e-499f-baa5-5d75157f0002",
   "metadata": {},
   "outputs": [],
   "source": []
  },
  {
   "cell_type": "code",
   "execution_count": null,
   "id": "b66100df-698f-418c-9931-6caeed095304",
   "metadata": {},
   "outputs": [],
   "source": []
  },
  {
   "cell_type": "code",
   "execution_count": null,
   "id": "2a6dded5-1e1d-4066-97d4-bd414116ef93",
   "metadata": {},
   "outputs": [],
   "source": []
  },
  {
   "cell_type": "code",
   "execution_count": null,
   "id": "dbe3b6cb-d4a1-4059-b520-1e27591c1382",
   "metadata": {},
   "outputs": [],
   "source": []
  },
  {
   "cell_type": "code",
   "execution_count": null,
   "id": "5b6b93b9-eca4-4bdb-83b6-097115892fa6",
   "metadata": {},
   "outputs": [],
   "source": []
  },
  {
   "cell_type": "code",
   "execution_count": null,
   "id": "ad3fc60e-958e-4892-a880-d4f8f82dde26",
   "metadata": {},
   "outputs": [],
   "source": []
  },
  {
   "cell_type": "code",
   "execution_count": null,
   "id": "80312dfa-5bab-4bf7-a793-4e6201791ccf",
   "metadata": {},
   "outputs": [],
   "source": []
  },
  {
   "cell_type": "code",
   "execution_count": null,
   "id": "85580d97-6c41-4a17-9d95-15417bef10e4",
   "metadata": {},
   "outputs": [],
   "source": []
  },
  {
   "cell_type": "code",
   "execution_count": null,
   "id": "16551824-1f58-46f1-adab-2f3c4291c973",
   "metadata": {},
   "outputs": [],
   "source": []
  },
  {
   "cell_type": "code",
   "execution_count": null,
   "id": "4ccabb1c-b04c-4e55-bb0d-4a8a13931e36",
   "metadata": {},
   "outputs": [],
   "source": []
  },
  {
   "cell_type": "code",
   "execution_count": null,
   "id": "f2cbd5de-ffb1-4604-9b49-647a3733a757",
   "metadata": {},
   "outputs": [],
   "source": []
  }
 ],
 "metadata": {
  "kernelspec": {
   "display_name": "Python 3 (ipykernel)",
   "language": "python",
   "name": "python3"
  },
  "language_info": {
   "codemirror_mode": {
    "name": "ipython",
    "version": 3
   },
   "file_extension": ".py",
   "mimetype": "text/x-python",
   "name": "python",
   "nbconvert_exporter": "python",
   "pygments_lexer": "ipython3",
   "version": "3.10.6"
  }
 },
 "nbformat": 4,
 "nbformat_minor": 5
}
